{
 "cells": [
  {
   "cell_type": "markdown",
   "metadata": {},
   "source": [
    "# Web Application Notebook containing the model and all relevant data preprocessing code"
   ]
  },
  {
   "attachments": {},
   "cell_type": "markdown",
   "metadata": {},
   "source": [
    "This notebook contains all the relevant code for splitting, loading and saving the data and best model in order to use it in the streamlit app"
   ]
  },
  {
   "cell_type": "code",
   "execution_count": 1,
   "metadata": {},
   "outputs": [],
   "source": [
    "import pandas as pd\n",
    "import matplotlib.pyplot as plt"
   ]
  },
  {
   "cell_type": "markdown",
   "metadata": {},
   "source": [
    "## 1. Data Cleaning and Preprocessing"
   ]
  },
  {
   "cell_type": "code",
   "execution_count": 2,
   "metadata": {},
   "outputs": [],
   "source": [
    "df = pd.read_csv(\"../Data/online_shoppers_intention.csv\")"
   ]
  },
  {
   "cell_type": "markdown",
   "metadata": {},
   "source": [
    "#### create function to conduct all data preprocessing and cleaning in one step"
   ]
  },
  {
   "cell_type": "code",
   "execution_count": 3,
   "metadata": {},
   "outputs": [],
   "source": [
    "\n",
    "def preprocess_data(df):\n",
    "    # convert boolean variables into float format\n",
    "    df[\"Weekend\"] = df[\"Weekend\"].astype(float)\n",
    "    df[\"Revenue\"] = df[\"Revenue\"].astype(float)\n",
    "    # convert month values into numbers, dummy-variables are not necessary since the boosted tree can also detect non-linear patterns\n",
    "    df[\"Month\"] = df[\"Month\"].replace({'Jan': 1, 'Feb': 2, \"Mar\":3, 'Apr':4, \"May\":5, \"June\":6, \"Jul\":7, \"Aug\":8, \"Sep\":9, \"Oct\":10, \"Nov\":11, \"Dec\":12})\n",
    "    # rename value of visitor type \"other\"\n",
    "    df[\"VisitorType\"] = df[\"VisitorType\"].replace({'Other':'Different'})\n",
    "    # convert everything to floats and dummies\n",
    "    df = pd.get_dummies(df, drop_first=True).astype(float) \n",
    "    return df"
   ]
  },
  {
   "cell_type": "code",
   "execution_count": 4,
   "metadata": {},
   "outputs": [],
   "source": [
    "# create copy of clean dataframe to work with\n",
    "data = preprocess_data(df).copy()"
   ]
  },
  {
   "cell_type": "markdown",
   "metadata": {},
   "source": [
    "## 2. Instantiate Boosted Tree Model"
   ]
  },
  {
   "cell_type": "code",
   "execution_count": 5,
   "metadata": {},
   "outputs": [],
   "source": [
    "# import relevant packages\n",
    "from xgboost import XGBClassifier\n",
    "from sklearn.model_selection import train_test_split\n",
    "import pickle"
   ]
  },
  {
   "cell_type": "markdown",
   "metadata": {},
   "source": [
    "### Create Training and Test Set"
   ]
  },
  {
   "cell_type": "code",
   "execution_count": 6,
   "metadata": {},
   "outputs": [],
   "source": [
    "y = data[\"Revenue\"]\n",
    "X = data.drop(\"Revenue\", axis=1)\n",
    "X_train, X_test, y_train, y_test = train_test_split(X, y, test_size = 0.05)"
   ]
  },
  {
   "cell_type": "markdown",
   "metadata": {},
   "source": [
    "### Instantiate and Train Model"
   ]
  },
  {
   "cell_type": "code",
   "execution_count": 7,
   "metadata": {},
   "outputs": [],
   "source": [
    "xgb = XGBClassifier(random_state = 1, max_depth=20, n_estimators=500, learning_rate=0.01, reg_alpha=6).fit(X_train, y_train)     "
   ]
  },
  {
   "cell_type": "markdown",
   "metadata": {},
   "source": [
    "### Safe Train and Test Data "
   ]
  },
  {
   "cell_type": "code",
   "execution_count": 8,
   "metadata": {},
   "outputs": [],
   "source": [
    "data.iloc[X_train.index,:].to_csv(\"../Data/online_shoppers_app_dev.csv\", index=False)\n",
    "data.iloc[X_test.index,:].drop(\"Revenue\", axis=1).to_csv(\"../Data/new_shoppers.csv\", index=False)"
   ]
  },
  {
   "cell_type": "markdown",
   "metadata": {},
   "source": [
    "### Safe Model"
   ]
  },
  {
   "cell_type": "code",
   "execution_count": 9,
   "metadata": {},
   "outputs": [],
   "source": [
    "filename = 'finalized_default_model.sav'\n",
    "pickle.dump(xgb, open(filename, 'wb'))"
   ]
  },
  {
   "cell_type": "markdown",
   "metadata": {},
   "source": [
    "## 3. Check whether saved model works by predicting test data"
   ]
  },
  {
   "cell_type": "code",
   "execution_count": 10,
   "metadata": {},
   "outputs": [
    {
     "data": {
      "text/html": [
       "<div>\n",
       "<style scoped>\n",
       "    .dataframe tbody tr th:only-of-type {\n",
       "        vertical-align: middle;\n",
       "    }\n",
       "\n",
       "    .dataframe tbody tr th {\n",
       "        vertical-align: top;\n",
       "    }\n",
       "\n",
       "    .dataframe thead th {\n",
       "        text-align: right;\n",
       "    }\n",
       "</style>\n",
       "<table border=\"1\" class=\"dataframe\">\n",
       "  <thead>\n",
       "    <tr style=\"text-align: right;\">\n",
       "      <th></th>\n",
       "      <th>Administrative</th>\n",
       "      <th>Administrative_Duration</th>\n",
       "      <th>Informational</th>\n",
       "      <th>Informational_Duration</th>\n",
       "      <th>ProductRelated</th>\n",
       "      <th>ProductRelated_Duration</th>\n",
       "      <th>BounceRates</th>\n",
       "      <th>ExitRates</th>\n",
       "      <th>PageValues</th>\n",
       "      <th>SpecialDay</th>\n",
       "      <th>Month</th>\n",
       "      <th>OperatingSystems</th>\n",
       "      <th>Browser</th>\n",
       "      <th>Region</th>\n",
       "      <th>TrafficType</th>\n",
       "      <th>Weekend</th>\n",
       "      <th>VisitorType_New_Visitor</th>\n",
       "      <th>VisitorType_Returning_Visitor</th>\n",
       "    </tr>\n",
       "  </thead>\n",
       "  <tbody>\n",
       "    <tr>\n",
       "      <th>0</th>\n",
       "      <td>0.0</td>\n",
       "      <td>0.000000</td>\n",
       "      <td>0.0</td>\n",
       "      <td>0.0</td>\n",
       "      <td>2.0</td>\n",
       "      <td>35.000000</td>\n",
       "      <td>0.000000</td>\n",
       "      <td>0.050000</td>\n",
       "      <td>0.000000</td>\n",
       "      <td>0.0</td>\n",
       "      <td>11.0</td>\n",
       "      <td>2.0</td>\n",
       "      <td>2.0</td>\n",
       "      <td>1.0</td>\n",
       "      <td>10.0</td>\n",
       "      <td>0.0</td>\n",
       "      <td>1.0</td>\n",
       "      <td>0.0</td>\n",
       "    </tr>\n",
       "    <tr>\n",
       "      <th>1</th>\n",
       "      <td>4.0</td>\n",
       "      <td>134.390000</td>\n",
       "      <td>1.0</td>\n",
       "      <td>191.9</td>\n",
       "      <td>24.0</td>\n",
       "      <td>1592.533333</td>\n",
       "      <td>0.003704</td>\n",
       "      <td>0.013580</td>\n",
       "      <td>5.245869</td>\n",
       "      <td>0.0</td>\n",
       "      <td>10.0</td>\n",
       "      <td>3.0</td>\n",
       "      <td>2.0</td>\n",
       "      <td>1.0</td>\n",
       "      <td>5.0</td>\n",
       "      <td>0.0</td>\n",
       "      <td>0.0</td>\n",
       "      <td>1.0</td>\n",
       "    </tr>\n",
       "    <tr>\n",
       "      <th>2</th>\n",
       "      <td>6.0</td>\n",
       "      <td>163.666667</td>\n",
       "      <td>10.0</td>\n",
       "      <td>403.0</td>\n",
       "      <td>15.0</td>\n",
       "      <td>665.566667</td>\n",
       "      <td>0.007143</td>\n",
       "      <td>0.004762</td>\n",
       "      <td>0.000000</td>\n",
       "      <td>0.0</td>\n",
       "      <td>3.0</td>\n",
       "      <td>3.0</td>\n",
       "      <td>2.0</td>\n",
       "      <td>8.0</td>\n",
       "      <td>8.0</td>\n",
       "      <td>0.0</td>\n",
       "      <td>1.0</td>\n",
       "      <td>0.0</td>\n",
       "    </tr>\n",
       "    <tr>\n",
       "      <th>3</th>\n",
       "      <td>0.0</td>\n",
       "      <td>0.000000</td>\n",
       "      <td>0.0</td>\n",
       "      <td>0.0</td>\n",
       "      <td>26.0</td>\n",
       "      <td>664.850000</td>\n",
       "      <td>0.026923</td>\n",
       "      <td>0.066667</td>\n",
       "      <td>0.000000</td>\n",
       "      <td>0.0</td>\n",
       "      <td>12.0</td>\n",
       "      <td>2.0</td>\n",
       "      <td>10.0</td>\n",
       "      <td>7.0</td>\n",
       "      <td>1.0</td>\n",
       "      <td>1.0</td>\n",
       "      <td>0.0</td>\n",
       "      <td>1.0</td>\n",
       "    </tr>\n",
       "    <tr>\n",
       "      <th>4</th>\n",
       "      <td>3.0</td>\n",
       "      <td>49.500000</td>\n",
       "      <td>1.0</td>\n",
       "      <td>29.5</td>\n",
       "      <td>45.0</td>\n",
       "      <td>1545.500000</td>\n",
       "      <td>0.000000</td>\n",
       "      <td>0.004000</td>\n",
       "      <td>20.971440</td>\n",
       "      <td>0.0</td>\n",
       "      <td>3.0</td>\n",
       "      <td>2.0</td>\n",
       "      <td>4.0</td>\n",
       "      <td>3.0</td>\n",
       "      <td>8.0</td>\n",
       "      <td>1.0</td>\n",
       "      <td>0.0</td>\n",
       "      <td>1.0</td>\n",
       "    </tr>\n",
       "    <tr>\n",
       "      <th>...</th>\n",
       "      <td>...</td>\n",
       "      <td>...</td>\n",
       "      <td>...</td>\n",
       "      <td>...</td>\n",
       "      <td>...</td>\n",
       "      <td>...</td>\n",
       "      <td>...</td>\n",
       "      <td>...</td>\n",
       "      <td>...</td>\n",
       "      <td>...</td>\n",
       "      <td>...</td>\n",
       "      <td>...</td>\n",
       "      <td>...</td>\n",
       "      <td>...</td>\n",
       "      <td>...</td>\n",
       "      <td>...</td>\n",
       "      <td>...</td>\n",
       "      <td>...</td>\n",
       "    </tr>\n",
       "    <tr>\n",
       "      <th>612</th>\n",
       "      <td>0.0</td>\n",
       "      <td>0.000000</td>\n",
       "      <td>0.0</td>\n",
       "      <td>0.0</td>\n",
       "      <td>58.0</td>\n",
       "      <td>3200.366667</td>\n",
       "      <td>0.003448</td>\n",
       "      <td>0.027586</td>\n",
       "      <td>0.000000</td>\n",
       "      <td>0.0</td>\n",
       "      <td>3.0</td>\n",
       "      <td>2.0</td>\n",
       "      <td>2.0</td>\n",
       "      <td>6.0</td>\n",
       "      <td>1.0</td>\n",
       "      <td>0.0</td>\n",
       "      <td>0.0</td>\n",
       "      <td>1.0</td>\n",
       "    </tr>\n",
       "    <tr>\n",
       "      <th>613</th>\n",
       "      <td>7.0</td>\n",
       "      <td>67.000000</td>\n",
       "      <td>2.0</td>\n",
       "      <td>725.5</td>\n",
       "      <td>101.0</td>\n",
       "      <td>4713.800000</td>\n",
       "      <td>0.009444</td>\n",
       "      <td>0.010482</td>\n",
       "      <td>20.624741</td>\n",
       "      <td>0.0</td>\n",
       "      <td>5.0</td>\n",
       "      <td>1.0</td>\n",
       "      <td>1.0</td>\n",
       "      <td>6.0</td>\n",
       "      <td>3.0</td>\n",
       "      <td>1.0</td>\n",
       "      <td>0.0</td>\n",
       "      <td>1.0</td>\n",
       "    </tr>\n",
       "    <tr>\n",
       "      <th>614</th>\n",
       "      <td>0.0</td>\n",
       "      <td>0.000000</td>\n",
       "      <td>0.0</td>\n",
       "      <td>0.0</td>\n",
       "      <td>2.0</td>\n",
       "      <td>34.200000</td>\n",
       "      <td>0.000000</td>\n",
       "      <td>0.100000</td>\n",
       "      <td>0.000000</td>\n",
       "      <td>0.0</td>\n",
       "      <td>9.0</td>\n",
       "      <td>2.0</td>\n",
       "      <td>2.0</td>\n",
       "      <td>1.0</td>\n",
       "      <td>2.0</td>\n",
       "      <td>0.0</td>\n",
       "      <td>0.0</td>\n",
       "      <td>1.0</td>\n",
       "    </tr>\n",
       "    <tr>\n",
       "      <th>615</th>\n",
       "      <td>2.0</td>\n",
       "      <td>17.000000</td>\n",
       "      <td>1.0</td>\n",
       "      <td>105.0</td>\n",
       "      <td>9.0</td>\n",
       "      <td>148.250000</td>\n",
       "      <td>0.020000</td>\n",
       "      <td>0.022000</td>\n",
       "      <td>0.000000</td>\n",
       "      <td>0.0</td>\n",
       "      <td>3.0</td>\n",
       "      <td>3.0</td>\n",
       "      <td>2.0</td>\n",
       "      <td>1.0</td>\n",
       "      <td>1.0</td>\n",
       "      <td>0.0</td>\n",
       "      <td>0.0</td>\n",
       "      <td>1.0</td>\n",
       "    </tr>\n",
       "    <tr>\n",
       "      <th>616</th>\n",
       "      <td>5.0</td>\n",
       "      <td>37.000000</td>\n",
       "      <td>1.0</td>\n",
       "      <td>16.0</td>\n",
       "      <td>18.0</td>\n",
       "      <td>463.500000</td>\n",
       "      <td>0.000000</td>\n",
       "      <td>0.004545</td>\n",
       "      <td>0.000000</td>\n",
       "      <td>0.0</td>\n",
       "      <td>5.0</td>\n",
       "      <td>2.0</td>\n",
       "      <td>5.0</td>\n",
       "      <td>1.0</td>\n",
       "      <td>6.0</td>\n",
       "      <td>0.0</td>\n",
       "      <td>0.0</td>\n",
       "      <td>1.0</td>\n",
       "    </tr>\n",
       "  </tbody>\n",
       "</table>\n",
       "<p>617 rows × 18 columns</p>\n",
       "</div>"
      ],
      "text/plain": [
       "     Administrative  Administrative_Duration  Informational  \\\n",
       "0               0.0                 0.000000            0.0   \n",
       "1               4.0               134.390000            1.0   \n",
       "2               6.0               163.666667           10.0   \n",
       "3               0.0                 0.000000            0.0   \n",
       "4               3.0                49.500000            1.0   \n",
       "..              ...                      ...            ...   \n",
       "612             0.0                 0.000000            0.0   \n",
       "613             7.0                67.000000            2.0   \n",
       "614             0.0                 0.000000            0.0   \n",
       "615             2.0                17.000000            1.0   \n",
       "616             5.0                37.000000            1.0   \n",
       "\n",
       "     Informational_Duration  ProductRelated  ProductRelated_Duration  \\\n",
       "0                       0.0             2.0                35.000000   \n",
       "1                     191.9            24.0              1592.533333   \n",
       "2                     403.0            15.0               665.566667   \n",
       "3                       0.0            26.0               664.850000   \n",
       "4                      29.5            45.0              1545.500000   \n",
       "..                      ...             ...                      ...   \n",
       "612                     0.0            58.0              3200.366667   \n",
       "613                   725.5           101.0              4713.800000   \n",
       "614                     0.0             2.0                34.200000   \n",
       "615                   105.0             9.0               148.250000   \n",
       "616                    16.0            18.0               463.500000   \n",
       "\n",
       "     BounceRates  ExitRates  PageValues  SpecialDay  Month  OperatingSystems  \\\n",
       "0       0.000000   0.050000    0.000000         0.0   11.0               2.0   \n",
       "1       0.003704   0.013580    5.245869         0.0   10.0               3.0   \n",
       "2       0.007143   0.004762    0.000000         0.0    3.0               3.0   \n",
       "3       0.026923   0.066667    0.000000         0.0   12.0               2.0   \n",
       "4       0.000000   0.004000   20.971440         0.0    3.0               2.0   \n",
       "..           ...        ...         ...         ...    ...               ...   \n",
       "612     0.003448   0.027586    0.000000         0.0    3.0               2.0   \n",
       "613     0.009444   0.010482   20.624741         0.0    5.0               1.0   \n",
       "614     0.000000   0.100000    0.000000         0.0    9.0               2.0   \n",
       "615     0.020000   0.022000    0.000000         0.0    3.0               3.0   \n",
       "616     0.000000   0.004545    0.000000         0.0    5.0               2.0   \n",
       "\n",
       "     Browser  Region  TrafficType  Weekend  VisitorType_New_Visitor  \\\n",
       "0        2.0     1.0         10.0      0.0                      1.0   \n",
       "1        2.0     1.0          5.0      0.0                      0.0   \n",
       "2        2.0     8.0          8.0      0.0                      1.0   \n",
       "3       10.0     7.0          1.0      1.0                      0.0   \n",
       "4        4.0     3.0          8.0      1.0                      0.0   \n",
       "..       ...     ...          ...      ...                      ...   \n",
       "612      2.0     6.0          1.0      0.0                      0.0   \n",
       "613      1.0     6.0          3.0      1.0                      0.0   \n",
       "614      2.0     1.0          2.0      0.0                      0.0   \n",
       "615      2.0     1.0          1.0      0.0                      0.0   \n",
       "616      5.0     1.0          6.0      0.0                      0.0   \n",
       "\n",
       "     VisitorType_Returning_Visitor  \n",
       "0                              0.0  \n",
       "1                              1.0  \n",
       "2                              0.0  \n",
       "3                              1.0  \n",
       "4                              1.0  \n",
       "..                             ...  \n",
       "612                            1.0  \n",
       "613                            1.0  \n",
       "614                            1.0  \n",
       "615                            1.0  \n",
       "616                            1.0  \n",
       "\n",
       "[617 rows x 18 columns]"
      ]
     },
     "execution_count": 10,
     "metadata": {},
     "output_type": "execute_result"
    }
   ],
   "source": [
    "new_customers = pd.read_csv(\"../Data/new_shoppers.csv\")\n",
    "new_customers"
   ]
  },
  {
   "cell_type": "code",
   "execution_count": 11,
   "metadata": {},
   "outputs": [],
   "source": [
    "# load model and make predictions\n",
    "loaded_model = pickle.load(open(filename, 'rb'))\n",
    "preds = loaded_model.predict(new_customers)"
   ]
  },
  {
   "cell_type": "code",
   "execution_count": 12,
   "metadata": {},
   "outputs": [
    {
     "name": "stdout",
     "output_type": "stream",
     "text": [
      "              precision    recall  f1-score   support\n",
      "\n",
      "         0.0       0.92      0.95      0.94       524\n",
      "         1.0       0.67      0.56      0.61        93\n",
      "\n",
      "    accuracy                           0.89       617\n",
      "   macro avg       0.80      0.75      0.77       617\n",
      "weighted avg       0.89      0.89      0.89       617\n",
      "\n"
     ]
    }
   ],
   "source": [
    "# evaluate model performance on test data\n",
    "from sklearn.metrics import classification_report\n",
    "print(classification_report(y_test, preds))"
   ]
  },
  {
   "cell_type": "code",
   "execution_count": null,
   "metadata": {},
   "outputs": [],
   "source": []
  }
 ],
 "metadata": {
  "kernelspec": {
   "display_name": "Python 3.9.13",
   "language": "python",
   "name": "python3"
  },
  "language_info": {
   "codemirror_mode": {
    "name": "ipython",
    "version": 3
   },
   "file_extension": ".py",
   "mimetype": "text/x-python",
   "name": "python",
   "nbconvert_exporter": "python",
   "pygments_lexer": "ipython3",
   "version": "3.9.13 (main, Aug 25 2022, 23:51:50) [MSC v.1916 64 bit (AMD64)]"
  },
  "orig_nbformat": 4,
  "vscode": {
   "interpreter": {
    "hash": "2e46365d3c54351d5bced397d24ae8f392d6ccfb2598419b687309726840c8c5"
   }
  }
 },
 "nbformat": 4,
 "nbformat_minor": 2
}
